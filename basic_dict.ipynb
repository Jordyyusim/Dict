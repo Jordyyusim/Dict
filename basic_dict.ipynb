{
 "cells": [
  {
   "cell_type": "markdown",
   "metadata": {},
   "source": [
    "# __DICTIONARY__\n",
    "### { key : value }\n",
    "<hr>\n",
    "<hr>"
   ]
  },
  {
   "cell_type": "markdown",
   "metadata": {},
   "source": [
    "#### get = getting the values from keys / x[key] or x.get[key]"
   ]
  },
  {
   "cell_type": "code",
   "execution_count": 3,
   "metadata": {},
   "outputs": [
    {
     "name": "stdout",
     "output_type": "stream",
     "text": [
      "Kaka\n"
     ]
    }
   ],
   "source": [
    "x = {\n",
    "    'a' : 'Andi',\n",
    "    'b' : 'Budi',\n",
    "    'c' : 'Caca',\n",
    "    1 : 'Kaka'\n",
    "}\n",
    "# print(x['a'])\n",
    "# print(x.get('a'))\n",
    "print(x[1])\n",
    "\n",
    "# print(x[4]) #error\n",
    "# print(x.get(4, 'maaf data tidak ada'))"
   ]
  },
  {
   "cell_type": "markdown",
   "metadata": {},
   "source": [
    "### Adding new data to a dict\n",
    "#### x['key'] = 'value'\n",
    "#### x.update({ key : val, key : val })\n",
    "#### if you're adding the same key in that set, the newest data will overwrite the old one. "
   ]
  },
  {
   "cell_type": "code",
   "execution_count": 1,
   "metadata": {},
   "outputs": [
    {
     "name": "stdout",
     "output_type": "stream",
     "text": [
      "{1: 'Kaka', 2: 'Budi', 3: 'Caca', 4: 'Dedi', 'kota': 'Jakarta'}\n"
     ]
    }
   ],
   "source": [
    "z = {\n",
    "    1: 'Andi',\n",
    "    2: 'Budi',\n",
    "    3: 'Caca',\n",
    "    4: 'Dedi'\n",
    "}\n",
    "\n",
    "# print(z[4])\n",
    "z[1] = 'Kaka'\n",
    "z['kota'] = 'Jakarta'\n",
    "# z.update({2: 'toyota'})\n",
    "# z.update({5: 'Elang', 6: 'ayam', 3: 'bebek'})\n",
    "print(z)"
   ]
  },
  {
   "cell_type": "markdown",
   "metadata": {},
   "source": [
    "### Deleting data from a dict\n",
    "#### pop = deleting a data from a dict according to key / x.pop('key')¶\n",
    "#### del = deleting a data from a dict according to key / del x['key'] / del(x['key])"
   ]
  },
  {
   "cell_type": "code",
   "execution_count": 2,
   "metadata": {},
   "outputs": [
    {
     "name": "stdout",
     "output_type": "stream",
     "text": [
      "{2: 'Budi', 3: 'Caca', 4: 'Dedi', 'kota': 'Jakarta'}\n"
     ]
    }
   ],
   "source": [
    "# z.pop('kota')\n",
    "del z[1]\n",
    "del(z['kota'])\n",
    "print(z)"
   ]
  },
  {
   "cell_type": "markdown",
   "metadata": {},
   "source": [
    "### Getting the keys and values of a dict\n",
    "#### keys = x.keys()\n",
    "#### values = x.values()"
   ]
  },
  {
   "cell_type": "code",
   "execution_count": null,
   "metadata": {},
   "outputs": [],
   "source": [
    "# print(z.keys())\n",
    "# print(z.values())\n",
    "# print(list(z.keys()))\n",
    "# print(list(z.values()))"
   ]
  },
  {
   "cell_type": "markdown",
   "metadata": {},
   "source": [
    "### Zipping two list \n",
    "#### to make a new dict datatype. you can zip two list and change it to dict"
   ]
  },
  {
   "cell_type": "code",
   "execution_count": null,
   "metadata": {},
   "outputs": [],
   "source": [
    "# c = list(zip(a, b))\n",
    "# print(c)\n",
    "# d = dict(c)\n",
    "# print(d)"
   ]
  },
  {
   "cell_type": "code",
   "execution_count": null,
   "metadata": {},
   "outputs": [],
   "source": [
    "# x = {'Senin': 'Monday', 'Selasa' : 'Tuesday'}\n",
    "# keys = list(x.keys())\n",
    "# valus = list(x.values())\n",
    "# print(keys)\n",
    "# keys[keys.index('Senin')] = 1\n",
    "# print(keys)\n",
    "\n",
    "# d = dict(zip(keys, valus))\n",
    "# print(d)"
   ]
  },
  {
   "cell_type": "markdown",
   "metadata": {},
   "source": [
    "### Getting data from a dict of dict"
   ]
  },
  {
   "cell_type": "code",
   "execution_count": null,
   "metadata": {},
   "outputs": [],
   "source": [
    "x = {\n",
    "    'nama': 'Andi',\n",
    "    'usia': '22',\n",
    "    'mobil': ['honda', 'kijang'],\n",
    "    'coor': {\n",
    "        'lat': 110.8,\n",
    "        'long': 87.9,\n",
    "        'gps': [110.8, 87.9]\n",
    "    }\n",
    "}\n",
    "print(x['nama'])\n",
    "print(x['coor']['lat'])\n",
    "print(x['coor']['gps'][0])"
   ]
  },
  {
   "cell_type": "code",
   "execution_count": null,
   "metadata": {},
   "outputs": [],
   "source": []
  },
  {
   "cell_type": "code",
   "execution_count": null,
   "metadata": {},
   "outputs": [],
   "source": [
    "europe = { 'spain': { 'capital':'madrid', 'population':46.77 },\n",
    "           'france': { 'capital':'paris', 'population':66.03 },\n",
    "           'germany': { 'capital':'berlin', 'population':80.62 },\n",
    "           'norway': { 'capital':'oslo', 'population':5.084 } }"
   ]
  },
  {
   "cell_type": "code",
   "execution_count": null,
   "metadata": {},
   "outputs": [],
   "source": [
    "print(europe['france']['capital'])"
   ]
  }
 ],
 "metadata": {
  "kernelspec": {
   "display_name": "Python 3",
   "language": "python",
   "name": "python3"
  },
  "language_info": {
   "codemirror_mode": {
    "name": "ipython",
    "version": 3
   },
   "file_extension": ".py",
   "mimetype": "text/x-python",
   "name": "python",
   "nbconvert_exporter": "python",
   "pygments_lexer": "ipython3",
   "version": "3.8.1"
  }
 },
 "nbformat": 4,
 "nbformat_minor": 4
}
